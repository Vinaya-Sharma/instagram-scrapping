{
 "cells": [
  {
   "cell_type": "markdown",
   "id": "46d35118",
   "metadata": {},
   "source": [
    "# Extracting Cute Dog Images From Instagram With Python & Selenium\n",
    "\n",
    "### This notebook saves images in a file without the need of external downloads </h3>"
   ]
  },
  {
   "cell_type": "code",
   "execution_count": 7,
   "id": "04a970fa",
   "metadata": {},
   "outputs": [],
   "source": [
    "#Selenium imports \n",
    "from selenium import webdriver\n",
    "from selenium.webdriver.common.keys import Keys\n",
    "from selenium.webdriver.support import expected_conditions as EC\n",
    "from selenium.webdriver.common.by import By\n",
    "from selenium.webdriver.support.wait import WebDriverWait\n",
    "from selenium.webdriver.chrome.service import Service\n",
    "from webdriver_manager.chrome import ChromeDriverManager"
   ]
  },
  {
   "cell_type": "code",
   "execution_count": 8,
   "id": "a2a71b36",
   "metadata": {},
   "outputs": [],
   "source": [
    "#Additional imports \n",
    "import os\n",
    "import wget"
   ]
  },
  {
   "cell_type": "markdown",
   "id": "7c31c5f3",
   "metadata": {},
   "source": [
    "* connecting the browser (I have used chrome)\n",
    "* connecting the site I would like to scrape (In this case \"instagram\")"
   ]
  },
  {
   "cell_type": "code",
   "execution_count": null,
   "id": "50871a5a",
   "metadata": {},
   "outputs": [],
   "source": [
    "driver = webdriver.Chrome(service=Service(ChromeDriverManager().install()))\n",
    "driver.get(\"https://www.instagram.com/\")"
   ]
  },
  {
   "cell_type": "markdown",
   "id": "8e942198",
   "metadata": {},
   "source": [
    "* initializing variable values (instagram password and username)\n",
    "* logging in by selecting the html elements through CSS Selector and entering values"
   ]
  },
  {
   "cell_type": "code",
   "execution_count": 10,
   "id": "be2cfdee",
   "metadata": {},
   "outputs": [],
   "source": [
    "usernameValue = \"***\"\n",
    "passwordValue = \"***\"\n",
    "username = WebDriverWait(driver, 10).until(EC.element_to_be_clickable((By.CSS_SELECTOR, \"input[name='username']\")))\n",
    "password = WebDriverWait(driver, 10).until(EC.element_to_be_clickable((By.CSS_SELECTOR, \"input[name='password']\")))\n",
    "\n",
    "username.clear()\n",
    "password.clear()\n",
    "\n",
    "username.send_keys(usernameValue)\n",
    "password.send_keys(passwordValue)\n",
    "login = WebDriverWait(driver, 10).until(EC.element_to_be_clickable((By.CSS_SELECTOR, \"button[type='submit']\"))).click()"
   ]
  },
  {
   "cell_type": "markdown",
   "id": "3805c4be",
   "metadata": {},
   "source": [
    "* dismissing the instagram popups"
   ]
  },
  {
   "cell_type": "code",
   "execution_count": 11,
   "id": "516c6419",
   "metadata": {},
   "outputs": [],
   "source": [
    "notNow = WebDriverWait(driver, 10).until(EC.element_to_be_clickable((By.XPATH, \"//button[contains(text(), 'Not Now')]\"))).click()\n",
    "notNow2 = WebDriverWait(driver, 10).until(EC.element_to_be_clickable((By.XPATH, \"//button[contains(text(), 'Not Now')]\"))).click()"
   ]
  },
  {
   "cell_type": "markdown",
   "id": "d2eed2b3",
   "metadata": {},
   "source": [
    "* Entering values to the instagram search bar"
   ]
  },
  {
   "cell_type": "code",
   "execution_count": 12,
   "id": "9a3c20f6",
   "metadata": {},
   "outputs": [],
   "source": [
    "#target the search input field\n",
    "searchField = WebDriverWait(driver, 10).until(EC.element_to_be_clickable((By.XPATH, \"//input[@placeholder='Search']\")))\n",
    "searchField.clear()\n",
    "\n",
    "#search for the hashtag cat\n",
    "search = \"#cutedogs\"\n",
    "searchField.send_keys(search)"
   ]
  },
  {
   "cell_type": "code",
   "execution_count": 14,
   "id": "fd8cea33",
   "metadata": {},
   "outputs": [],
   "source": [
    "searchField.send_keys(Keys.ENTER)\n",
    "searchField.send_keys(Keys.ENTER)"
   ]
  },
  {
   "cell_type": "markdown",
   "id": "d3322716",
   "metadata": {},
   "source": [
    "* scrolling instagram page \n",
    "* saving image src's in an array"
   ]
  },
  {
   "cell_type": "code",
   "execution_count": null,
   "id": "0eb767e1",
   "metadata": {},
   "outputs": [],
   "source": [
    "driver.execute_script(\"window.scrollTo(0, 5000);\")\n",
    "\n",
    "images = driver.find_elements_by_tag_name(\"img\")\n",
    "images = [image.get_attribute('src') for image in images]"
   ]
  },
  {
   "cell_type": "markdown",
   "id": "c2620b6c",
   "metadata": {},
   "source": [
    "* recieiving the path in which to save images"
   ]
  },
  {
   "cell_type": "code",
   "execution_count": 16,
   "id": "53778b46",
   "metadata": {},
   "outputs": [],
   "source": [
    "path = os.getcwd()\n",
    "path = os.path.join(path, search[1:])\n",
    "\n",
    "os.mkdir(path)"
   ]
  },
  {
   "cell_type": "markdown",
   "id": "c667c25f",
   "metadata": {},
   "source": [
    "* saving each image with unique name "
   ]
  },
  {
   "cell_type": "code",
   "execution_count": null,
   "id": "d5856913",
   "metadata": {},
   "outputs": [],
   "source": [
    "counter = 0\n",
    "for img in images:\n",
    "    save_as = os.path.join(path, search[1:] + str(counter) + '.jpeg')\n",
    "    wget.download(img, save_as)\n",
    "    counter+=1\n",
    "    "
   ]
  },
  {
   "cell_type": "code",
   "execution_count": null,
   "id": "d603d0e8",
   "metadata": {},
   "outputs": [],
   "source": []
  }
 ],
 "metadata": {
  "kernelspec": {
   "display_name": "Python 3 (ipykernel)",
   "language": "python",
   "name": "python3"
  },
  "language_info": {
   "codemirror_mode": {
    "name": "ipython",
    "version": 3
   },
   "file_extension": ".py",
   "mimetype": "text/x-python",
   "name": "python",
   "nbconvert_exporter": "python",
   "pygments_lexer": "ipython3",
   "version": "3.8.11"
  }
 },
 "nbformat": 4,
 "nbformat_minor": 5
}
